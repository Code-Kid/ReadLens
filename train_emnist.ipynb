{
 "cells": [
  {
   "cell_type": "code",
   "execution_count": 1,
   "id": "b928b490-c6fd-4a35-8e35-9cf7d3551266",
   "metadata": {},
   "outputs": [],
   "source": [
    "import numpy as np\n",
    "import tensorflow as tf\n",
    "from tensorflow.keras.utils import to_categorical\n",
    "from tensorflow.keras.models import Sequential\n",
    "from tensorflow.keras.layers import Conv2D, MaxPooling2D, Flatten, Dense\n",
    "import gzip"
   ]
  },
  {
   "cell_type": "code",
   "execution_count": 5,
   "id": "30cd26c2-443a-4cfa-9272-1908ba56e7d6",
   "metadata": {},
   "outputs": [],
   "source": [
    "import numpy as np\n",
    "\n",
    "def load_emnist_data(data_path, labels_path):\n",
    "    with open(data_path, 'rb') as f:\n",
    "        # Skip the first 16 bytes for images file (magic number + dimensions)\n",
    "        data = np.frombuffer(f.read(), dtype=np.uint8, offset=16)\n",
    "    with open(labels_path, 'rb') as f:\n",
    "        # Skip the first 8 bytes for labels file (magic number + item count)\n",
    "        labels = np.frombuffer(f.read(), dtype=np.uint8, offset=8)\n",
    "    return data.reshape(-1, 28, 28), labels\n"
   ]
  },
  {
   "cell_type": "code",
   "execution_count": 8,
   "id": "e2339d51-57e5-4c02-9f2f-6d9b0480f1e8",
   "metadata": {},
   "outputs": [],
   "source": [
    "train_images_path = \"D:\\\\github\\\\text-scanner\\\\ver.1\\\\balanced_extracted\\\\emnist-balanced-train-images-idx3-ubyte\"\n",
    "train_labels_path = \"D:\\\\github\\\\text-scanner\\\\ver.1\\\\balanced_extracted\\\\emnist-balanced-train-labels-idx1-ubyte\"\n",
    "test_images_path = \"D:\\\\github\\\\text-scanner\\\\ver.1\\\\balanced_extracted\\\\emnist-balanced-test-images-idx3-ubyte\"\n",
    "test_labels_path = \"D:\\\\github\\\\text-scanner\\\\ver.1\\\\balanced_extracted\\\\emnist-balanced-test-labels-idx1-ubyte\"\n"
   ]
  },
  {
   "cell_type": "code",
   "execution_count": 9,
   "id": "4733dfe3-4451-4667-9eab-c0d420b9a68a",
   "metadata": {},
   "outputs": [],
   "source": [
    "# Load the training and test data\n",
    "x_train, y_train = load_emnist_data(train_images_path, train_labels_path)\n",
    "x_test, y_test = load_emnist_data(test_images_path, test_labels_path)"
   ]
  },
  {
   "cell_type": "code",
   "execution_count": 10,
   "id": "58189098-76f7-45c7-979f-d64e4f64ce5c",
   "metadata": {},
   "outputs": [],
   "source": [
    "# Normalize the data\n",
    "x_train = x_train.astype('float32') / 255.0\n",
    "x_test = x_test.astype('float32') / 255.0"
   ]
  },
  {
   "cell_type": "code",
   "execution_count": 11,
   "id": "d679c7b7-3d35-45c6-bbfd-f8a3eda3103c",
   "metadata": {},
   "outputs": [],
   "source": [
    "# Reshape to add channel dimension for CNN\n",
    "x_train = x_train.reshape(-1, 28, 28, 1)\n",
    "x_test = x_test.reshape(-1, 28, 28, 1)"
   ]
  },
  {
   "cell_type": "code",
   "execution_count": 12,
   "id": "d63e22e5-400e-48d6-b516-c9ac8d75d18b",
   "metadata": {},
   "outputs": [],
   "source": [
    "# One-hot encode the labels\n",
    "num_classes = len(np.unique(y_train))\n",
    "y_train = to_categorical(y_train, num_classes)\n",
    "y_test = to_categorical(y_test, num_classes)"
   ]
  },
  {
   "cell_type": "code",
   "execution_count": 13,
   "id": "89461277-25ff-42e0-ac67-b261be444801",
   "metadata": {},
   "outputs": [
    {
     "name": "stdout",
     "output_type": "stream",
     "text": [
      "Training data shape: (112800, 28, 28, 1), Training labels shape: (112800, 47)\n",
      "Test data shape: (18800, 28, 28, 1), Test labels shape: (18800, 47)\n"
     ]
    }
   ],
   "source": [
    "print(f\"Training data shape: {x_train.shape}, Training labels shape: {y_train.shape}\")\n",
    "print(f\"Test data shape: {x_test.shape}, Test labels shape: {y_test.shape}\")\n"
   ]
  },
  {
   "cell_type": "code",
   "execution_count": 14,
   "id": "801c443b-66bf-4457-b36a-233c6d174303",
   "metadata": {},
   "outputs": [
    {
     "name": "stderr",
     "output_type": "stream",
     "text": [
      "C:\\Users\\thecr\\AppData\\Local\\Programs\\Python\\Python312\\Lib\\site-packages\\keras\\src\\layers\\convolutional\\base_conv.py:107: UserWarning: Do not pass an `input_shape`/`input_dim` argument to a layer. When using Sequential models, prefer using an `Input(shape)` object as the first layer in the model instead.\n",
      "  super().__init__(activity_regularizer=activity_regularizer, **kwargs)\n"
     ]
    }
   ],
   "source": [
    "# Build the CNN model\n",
    "model = Sequential([\n",
    "    Conv2D(32, kernel_size=(3, 3), activation='relu', input_shape=(28, 28, 1)),\n",
    "    MaxPooling2D(pool_size=(2, 2)),\n",
    "    Conv2D(64, kernel_size=(3, 3), activation='relu'),\n",
    "    MaxPooling2D(pool_size=(2, 2)),\n",
    "    Flatten(),\n",
    "    Dense(128, activation='relu'),\n",
    "    Dense(num_classes, activation='softmax')\n",
    "])"
   ]
  },
  {
   "cell_type": "code",
   "execution_count": 15,
   "id": "eb3da97c-320a-4ddb-b82a-544031d03904",
   "metadata": {},
   "outputs": [],
   "source": [
    "# Compile the model\n",
    "model.compile(optimizer='adam', loss='categorical_crossentropy', metrics=['accuracy'])\n"
   ]
  },
  {
   "cell_type": "code",
   "execution_count": null,
   "id": "eff56533-5a3a-47fd-96bf-8b781835a367",
   "metadata": {},
   "outputs": [
    {
     "name": "stdout",
     "output_type": "stream",
     "text": [
      "Epoch 1/10\n",
      "\u001b[1m705/705\u001b[0m \u001b[32m━━━━━━━━━━━━━━━━━━━━\u001b[0m\u001b[37m\u001b[0m \u001b[1m15s\u001b[0m 20ms/step - accuracy: 0.5928 - loss: 1.4655 - val_accuracy: 0.8251 - val_loss: 0.5245\n",
      "Epoch 2/10\n",
      "\u001b[1m705/705\u001b[0m \u001b[32m━━━━━━━━━━━━━━━━━━━━\u001b[0m\u001b[37m\u001b[0m \u001b[1m16s\u001b[0m 23ms/step - accuracy: 0.8389 - loss: 0.4857 - val_accuracy: 0.8484 - val_loss: 0.4361\n",
      "Epoch 3/10\n",
      "\u001b[1m705/705\u001b[0m \u001b[32m━━━━━━━━━━━━━━━━━━━━\u001b[0m\u001b[37m\u001b[0m \u001b[1m15s\u001b[0m 21ms/step - accuracy: 0.8627 - loss: 0.3967 - val_accuracy: 0.8576 - val_loss: 0.4045\n",
      "Epoch 4/10\n",
      "\u001b[1m705/705\u001b[0m \u001b[32m━━━━━━━━━━━━━━━━━━━━\u001b[0m\u001b[37m\u001b[0m \u001b[1m15s\u001b[0m 21ms/step - accuracy: 0.8743 - loss: 0.3539 - val_accuracy: 0.8661 - val_loss: 0.3819\n",
      "Epoch 5/10\n",
      "\u001b[1m705/705\u001b[0m \u001b[32m━━━━━━━━━━━━━━━━━━━━\u001b[0m\u001b[37m\u001b[0m \u001b[1m16s\u001b[0m 22ms/step - accuracy: 0.8868 - loss: 0.3176 - val_accuracy: 0.8641 - val_loss: 0.3862\n",
      "Epoch 6/10\n",
      "\u001b[1m705/705\u001b[0m \u001b[32m━━━━━━━━━━━━━━━━━━━━\u001b[0m\u001b[37m\u001b[0m \u001b[1m15s\u001b[0m 21ms/step - accuracy: 0.8927 - loss: 0.2894 - val_accuracy: 0.8661 - val_loss: 0.3716\n",
      "Epoch 7/10\n",
      "\u001b[1m705/705\u001b[0m \u001b[32m━━━━━━━━━━━━━━━━━━━━\u001b[0m\u001b[37m\u001b[0m \u001b[1m15s\u001b[0m 21ms/step - accuracy: 0.8997 - loss: 0.2651 - val_accuracy: 0.8671 - val_loss: 0.3811\n",
      "Epoch 8/10\n",
      "\u001b[1m705/705\u001b[0m \u001b[32m━━━━━━━━━━━━━━━━━━━━\u001b[0m\u001b[37m\u001b[0m \u001b[1m15s\u001b[0m 21ms/step - accuracy: 0.9065 - loss: 0.2482 - val_accuracy: 0.8710 - val_loss: 0.3701\n",
      "Epoch 9/10\n",
      "\u001b[1m563/705\u001b[0m \u001b[32m━━━━━━━━━━━━━━━\u001b[0m\u001b[37m━━━━━\u001b[0m \u001b[1m2s\u001b[0m 20ms/step - accuracy: 0.9125 - loss: 0.2299"
     ]
    }
   ],
   "source": [
    "# Train the model\n",
    "model.fit(x_train, y_train, epochs=10, batch_size=128, validation_split=0.2)"
   ]
  },
  {
   "cell_type": "code",
   "execution_count": null,
   "id": "0bd8121d-9994-4d01-addb-dfcbb358702a",
   "metadata": {},
   "outputs": [],
   "source": [
    "# Evaluate the model\n",
    "test_loss, test_accuracy = model.evaluate(x_test, y_test)\n",
    "print(f\"Test Accuracy: {test_accuracy:.2f}\")"
   ]
  },
  {
   "cell_type": "code",
   "execution_count": null,
   "id": "b73dbd9f-3589-4b1c-9b66-8e27a11cb7a6",
   "metadata": {},
   "outputs": [],
   "source": [
    "# Save the model for future use\n",
    "model.save('emnist_character_recognition.h5')"
   ]
  }
 ],
 "metadata": {
  "kernelspec": {
   "display_name": "Python 3 (ipykernel)",
   "language": "python",
   "name": "python3"
  },
  "language_info": {
   "codemirror_mode": {
    "name": "ipython",
    "version": 3
   },
   "file_extension": ".py",
   "mimetype": "text/x-python",
   "name": "python",
   "nbconvert_exporter": "python",
   "pygments_lexer": "ipython3",
   "version": "3.12.5"
  }
 },
 "nbformat": 4,
 "nbformat_minor": 5
}
